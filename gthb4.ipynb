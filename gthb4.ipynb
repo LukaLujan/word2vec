{
  "nbformat": 4,
  "nbformat_minor": 0,
  "metadata": {
    "colab": {
      "name": "gthb4.ipynb",
      "provenance": [],
      "collapsed_sections": [],
      "authorship_tag": "ABX9TyMxxZCwfGDqYP7H+ecmGRoy",
      "include_colab_link": true
    },
    "kernelspec": {
      "name": "python3",
      "display_name": "Python 3"
    },
    "language_info": {
      "name": "python"
    }
  },
  "cells": [
    {
      "cell_type": "markdown",
      "metadata": {
        "id": "view-in-github",
        "colab_type": "text"
      },
      "source": [
        "<a href=\"https://colab.research.google.com/github/LukaLujan/word2vec/blob/main/gthb4.ipynb\" target=\"_parent\"><img src=\"https://colab.research.google.com/assets/colab-badge.svg\" alt=\"Open In Colab\"/></a>"
      ]
    },
    {
      "cell_type": "markdown",
      "source": [
        "As I said because RAM \"issues\" , we will do training and testing in this separated colab notebook"
      ],
      "metadata": {
        "id": "pISgJyYLsCRf"
      }
    },
    {
      "cell_type": "code",
      "execution_count": null,
      "metadata": {
        "id": "b-ESuqVOPvTb"
      },
      "outputs": [],
      "source": [
        "import numpy as np\n",
        "import pandas as pd\n",
        "\n",
        "\n",
        "import tensorflow as tf\n",
        "\n",
        "from tensorflow.keras.models import Sequential\n",
        "from tensorflow.keras.layers import Embedding, Input, Dense, LSTM, SpatialDropout1D, Dropout, TimeDistributed\n",
        "from tensorflow.keras.callbacks import EarlyStopping\n",
        "\n",
        "from sklearn.model_selection import train_test_split\n",
        "from sklearn.metrics import accuracy_score\n",
        "\n"
      ]
    },
    {
      "cell_type": "code",
      "source": [
        ""
      ],
      "metadata": {
        "id": "CzQlRQqKUb7e"
      },
      "execution_count": null,
      "outputs": []
    },
    {
      "cell_type": "code",
      "source": [
        "from google.colab import drive\n",
        "drive.mount(\"/content/drive\")"
      ],
      "metadata": {
        "colab": {
          "base_uri": "https://localhost:8080/"
        },
        "id": "BNQWv-Z8Qclh",
        "outputId": "413f9c6b-a669-46be-ef34-123d5f845058"
      },
      "execution_count": null,
      "outputs": [
        {
          "output_type": "stream",
          "name": "stdout",
          "text": [
            "Mounted at /content/drive\n"
          ]
        }
      ]
    },
    {
      "cell_type": "code",
      "source": [
        "# I am loading train data that has been preprocessed , embedded , padded and converted into numpy arrays, so it is ready for traning our model.\n",
        "X_train = np.load(\"drive/MyDrive/X_train_extra.npy\", mmap_mode='r')\n",
        "y_train = np.load(\"drive/MyDrive/y_train_extra.npy\", mmap_mode='r')"
      ],
      "metadata": {
        "id": "QSGu2Le8Qcon"
      },
      "execution_count": null,
      "outputs": []
    },
    {
      "cell_type": "code",
      "source": [
        "X_train.shape"
      ],
      "metadata": {
        "colab": {
          "base_uri": "https://localhost:8080/"
        },
        "id": "eeqZ8aAARmg7",
        "outputId": "5753b035-5c3b-4efb-86dc-8abf96204afd"
      },
      "execution_count": null,
      "outputs": [
        {
          "output_type": "execute_result",
          "data": {
            "text/plain": [
              "(18285, 47, 300)"
            ]
          },
          "metadata": {},
          "execution_count": 4
        }
      ]
    },
    {
      "cell_type": "code",
      "source": [
        "y_train.shape"
      ],
      "metadata": {
        "colab": {
          "base_uri": "https://localhost:8080/"
        },
        "id": "NllGeDnjRodi",
        "outputId": "60246a5d-c751-4557-c5ce-98c97e72f54f"
      },
      "execution_count": null,
      "outputs": [
        {
          "output_type": "execute_result",
          "data": {
            "text/plain": [
              "(18285,)"
            ]
          },
          "metadata": {},
          "execution_count": 5
        }
      ]
    },
    {
      "cell_type": "code",
      "source": [
        "#We will load test data as well!\n",
        "X_test = np.load(\"drive/MyDrive/X_test_extra.npy\", mmap_mode='r')\n",
        "y_test = np.load(\"drive/MyDrive/y_test_extra.npy\", mmap_mode='r')"
      ],
      "metadata": {
        "id": "BtWR1xFARnke"
      },
      "execution_count": null,
      "outputs": []
    },
    {
      "cell_type": "code",
      "source": [
        "X_test.shape, y_test.shape"
      ],
      "metadata": {
        "colab": {
          "base_uri": "https://localhost:8080/"
        },
        "id": "AVorU0xXRygJ",
        "outputId": "50c56978-4306-45ba-972b-b4d2e52eaf48"
      },
      "execution_count": null,
      "outputs": [
        {
          "output_type": "execute_result",
          "data": {
            "text/plain": [
              "((4575, 47, 300), (4575,))"
            ]
          },
          "metadata": {},
          "execution_count": 7
        }
      ]
    },
    {
      "cell_type": "code",
      "source": [
        ""
      ],
      "metadata": {
        "id": "1bpXQWPBX_43"
      },
      "execution_count": null,
      "outputs": []
    },
    {
      "cell_type": "code",
      "source": [
        "#Spliting our train data, into train and validation set.\n",
        "X1_train, X1_val, y1_train, y1_val  =train_test_split(X_train, y_train, test_size=0.33, random_state=42)"
      ],
      "metadata": {
        "id": "VXVY9Bx0R1IP"
      },
      "execution_count": null,
      "outputs": []
    },
    {
      "cell_type": "code",
      "source": [
        "print(X1_train.shape, X1_val.shape, y1_train.shape, y1_val.shape)"
      ],
      "metadata": {
        "colab": {
          "base_uri": "https://localhost:8080/"
        },
        "id": "Sn2esCLYsdhU",
        "outputId": "848aad9d-997d-4a5a-9eae-0cbbb1320067"
      },
      "execution_count": null,
      "outputs": [
        {
          "output_type": "stream",
          "name": "stdout",
          "text": [
            "(12250, 47, 300) (6035, 47, 300) (12250,) (6035,)\n"
          ]
        }
      ]
    },
    {
      "cell_type": "code",
      "source": [
        "input_shape = (X1_train.shape[1], X1_train.shape[2])"
      ],
      "metadata": {
        "id": "VgyeSediSIoD"
      },
      "execution_count": null,
      "outputs": []
    },
    {
      "cell_type": "code",
      "source": [
        ""
      ],
      "metadata": {
        "id": "dvi1NQdTVm-M"
      },
      "execution_count": null,
      "outputs": []
    },
    {
      "cell_type": "code",
      "source": [
        "#Here we are using same - simple model as before. You can play on your own to get better results. Goal was more on preprocessing and converting data into array.\n",
        "\n",
        "model = Sequential()\n",
        "# model.add(Embedding(MAX_NB_WORDS, EMBEDDING_DIM, input_length=X.shape[1]))\n",
        "    # here we do not need Embedding layer because we did it on our own) \n",
        "model.add(Input(shape=input_shape))\n",
        "    # https://keras.io/api/layers/core_layers/input/\n",
        "\n",
        "model.add(LSTM(64))\n",
        "model.add(Dropout(0.4))\n",
        "model.add(Dense(32))\n",
        "model.add(Dropout(0.4))\n",
        "model.add(Dense(1,activation='sigmoid'))\n",
        "model.compile(loss='binary_crossentropy',optimizer='adam',metrics=['accuracy'])\n",
        "print(model.summary())"
      ],
      "metadata": {
        "colab": {
          "base_uri": "https://localhost:8080/"
        },
        "id": "8mrsXig6SV9R",
        "outputId": "0320d899-c325-4106-9a33-f9fb61779852"
      },
      "execution_count": null,
      "outputs": [
        {
          "output_type": "stream",
          "name": "stdout",
          "text": [
            "Model: \"sequential_1\"\n",
            "_________________________________________________________________\n",
            " Layer (type)                Output Shape              Param #   \n",
            "=================================================================\n",
            " lstm_1 (LSTM)               (None, 64)                93440     \n",
            "                                                                 \n",
            " dropout_2 (Dropout)         (None, 64)                0         \n",
            "                                                                 \n",
            " dense_2 (Dense)             (None, 32)                2080      \n",
            "                                                                 \n",
            " dropout_3 (Dropout)         (None, 32)                0         \n",
            "                                                                 \n",
            " dense_3 (Dense)             (None, 1)                 33        \n",
            "                                                                 \n",
            "=================================================================\n",
            "Total params: 95,553\n",
            "Trainable params: 95,553\n",
            "Non-trainable params: 0\n",
            "_________________________________________________________________\n",
            "None\n"
          ]
        }
      ]
    },
    {
      "cell_type": "code",
      "source": [
        "history=model.fit(X1_train,y1_train, validation_data=(X1_val, y1_val), epochs=10, batch_size=64, callbacks=[EarlyStopping(monitor='val_loss', patience=3,restore_best_weights=True)] )"
      ],
      "metadata": {
        "colab": {
          "base_uri": "https://localhost:8080/"
        },
        "id": "ZjXEQSwrSn7W",
        "outputId": "19b10ca2-1280-4e6f-9b32-4c6be0b19ffe"
      },
      "execution_count": null,
      "outputs": [
        {
          "output_type": "stream",
          "name": "stdout",
          "text": [
            "Epoch 1/10\n",
            "192/192 [==============================] - 21s 99ms/step - loss: 0.2987 - accuracy: 0.8787 - val_loss: 0.2646 - val_accuracy: 0.8969\n",
            "Epoch 2/10\n",
            "192/192 [==============================] - 15s 77ms/step - loss: 0.2689 - accuracy: 0.9024 - val_loss: 0.2624 - val_accuracy: 0.8973\n",
            "Epoch 3/10\n",
            "192/192 [==============================] - 15s 79ms/step - loss: 0.3849 - accuracy: 0.8144 - val_loss: 0.3257 - val_accuracy: 0.8832\n",
            "Epoch 4/10\n",
            "192/192 [==============================] - 15s 80ms/step - loss: 0.3086 - accuracy: 0.8937 - val_loss: 0.2909 - val_accuracy: 0.8921\n",
            "Epoch 5/10\n",
            "192/192 [==============================] - 15s 80ms/step - loss: 0.2690 - accuracy: 0.9013 - val_loss: 0.2719 - val_accuracy: 0.8963\n"
          ]
        }
      ]
    },
    {
      "cell_type": "code",
      "source": [
        "y_preds = model.predict(X_test)"
      ],
      "metadata": {
        "id": "Fg-DYFaOTBwy"
      },
      "execution_count": null,
      "outputs": []
    },
    {
      "cell_type": "code",
      "source": [
        ""
      ],
      "metadata": {
        "id": "jVVrHjUXUPTX"
      },
      "execution_count": null,
      "outputs": []
    },
    {
      "cell_type": "code",
      "source": [
        ""
      ],
      "metadata": {
        "id": "vKn-Bhj8UPWl"
      },
      "execution_count": null,
      "outputs": []
    },
    {
      "cell_type": "code",
      "source": [
        "for i in range(len(y_preds)):\n",
        "  if y_preds[i] >=0.5:\n",
        "    y_preds[i]=1\n",
        "  else:\n",
        "    y_preds[i] =0"
      ],
      "metadata": {
        "id": "c9UweHJOTCT0"
      },
      "execution_count": null,
      "outputs": []
    },
    {
      "cell_type": "code",
      "source": [
        "y_preds=y_preds.flatten()\n",
        "pd.Series(y_preds).value_counts()"
      ],
      "metadata": {
        "colab": {
          "base_uri": "https://localhost:8080/"
        },
        "id": "DMjtMjx0TCW4",
        "outputId": "cc3c4061-df31-4a10-c16c-a15c0add7d58"
      },
      "execution_count": null,
      "outputs": [
        {
          "output_type": "execute_result",
          "data": {
            "text/plain": [
              "1.0    2410\n",
              "0.0    2165\n",
              "dtype: int64"
            ]
          },
          "metadata": {},
          "execution_count": 30
        }
      ]
    },
    {
      "cell_type": "code",
      "source": [
        "from sklearn.metrics import accuracy_score, classification_report"
      ],
      "metadata": {
        "id": "CZ9ocoNqTCc4"
      },
      "execution_count": null,
      "outputs": []
    },
    {
      "cell_type": "code",
      "source": [
        "print(accuracy_score(y_test, y_preds))"
      ],
      "metadata": {
        "colab": {
          "base_uri": "https://localhost:8080/"
        },
        "id": "E4BZYkBvTHET",
        "outputId": "ccc31b41-4360-4ddd-f548-3ff8f00e8f16"
      },
      "execution_count": null,
      "outputs": [
        {
          "output_type": "stream",
          "name": "stdout",
          "text": [
            "0.6751912568306011\n"
          ]
        }
      ]
    },
    {
      "cell_type": "code",
      "source": [
        "print(classification_report(y_test, y_preds))"
      ],
      "metadata": {
        "colab": {
          "base_uri": "https://localhost:8080/"
        },
        "id": "o3JiJWRte6Y-",
        "outputId": "2d5c5fe1-54ed-4cac-bac5-0e2d315327f9"
      },
      "execution_count": null,
      "outputs": [
        {
          "output_type": "stream",
          "name": "stdout",
          "text": [
            "              precision    recall  f1-score   support\n",
            "\n",
            "           0       0.67      0.65      0.66      2213\n",
            "           1       0.68      0.70      0.69      2362\n",
            "\n",
            "    accuracy                           0.68      4575\n",
            "   macro avg       0.67      0.67      0.67      4575\n",
            "weighted avg       0.68      0.68      0.68      4575\n",
            "\n"
          ]
        }
      ]
    },
    {
      "cell_type": "code",
      "source": [
        ""
      ],
      "metadata": {
        "id": "frfUAmP3yKxX"
      },
      "execution_count": null,
      "outputs": []
    },
    {
      "cell_type": "markdown",
      "source": [
        "As we can see there are somehow better results when we combine both models. Of course if we want to get better results, we would need more data to train, and experiment with much newer and better models. That is for the next time."
      ],
      "metadata": {
        "id": "tUjSiqAQznGm"
      }
    },
    {
      "cell_type": "code",
      "source": [
        ""
      ],
      "metadata": {
        "id": "Y9bE5avJ0Gww"
      },
      "execution_count": null,
      "outputs": []
    }
  ]
}